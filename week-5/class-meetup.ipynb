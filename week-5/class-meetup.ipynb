{
 "cells": [
  {
   "cell_type": "markdown",
   "id": "05bfdbc5",
   "metadata": {},
   "source": [
    "## Class Meetup Notes\n",
    "\n",
    "### Data Structures\n",
    "##### tuples, lists, dictionaries, sequences"
   ]
  },
  {
   "cell_type": "code",
   "execution_count": null,
   "id": "ff4d8e52",
   "metadata": {},
   "outputs": [],
   "source": [
    "tup = 1, 2, 3\n",
    "print(tup)\n",
    "\n",
    "deuxtup = tuple('code-you')\n",
    "print(deuxtup[0:4]) # access by element and slice"
   ]
  },
  {
   "cell_type": "code",
   "execution_count": null,
   "id": "59bdda40",
   "metadata": {},
   "outputs": [],
   "source": [
    "list_of_elements = ['Hydrogen', 'Oxygen', 'Carbon', 'Nitrogen']\n",
    "print(list_of_elements)"
   ]
  },
  {
   "cell_type": "code",
   "execution_count": null,
   "id": "224fb2bd",
   "metadata": {},
   "outputs": [],
   "source": [
    "list_of_elements.insert(4, 'Neon')\n",
    "print(list_of_elements)"
   ]
  },
  {
   "cell_type": "code",
   "execution_count": null,
   "id": "82329619",
   "metadata": {},
   "outputs": [],
   "source": [
    "days = ('Monday', 'Tuesday', 'Wednesday', 'Thursday', 'Friday', 'Saturday', 'Sunday') # tuple\n",
    "student = {'name': 'John', 'age': 20, 'major': 'Computer Science'} # dictionary\n",
    "print(student['major'])"
   ]
  },
  {
   "cell_type": "code",
   "execution_count": null,
   "id": "3abc7641",
   "metadata": {},
   "outputs": [],
   "source": [
    "mushroom_catalog = {\n",
    "    \"Amanita_muscaria\": {\n",
    "        \"common_name\": \"Fly Agaric\",\n",
    "        \"edibility\": \"Toxic\",\n",
    "        \"habitat\": \"Coniferous and deciduous woodlands, often with birch or pine\",\n",
    "        \"spore_print_color\": \"White\",\n",
    "        \"fungal_folklore\": \"Associated with shamanic rituals in Siberia; said to be the inspiration for Santa Claus's red-and-white suit.\"\n",
    "    },\n",
    "    \"Boletus_edulis\": {\n",
    "        \"common_name\": \"King Bolete\",\n",
    "        \"edibility\": \"Edible\",\n",
    "        \"habitat\": \"Grasslands near oak, beech, or conifer trees\",\n",
    "        \"spore_print_color\": \"Olive-brown\",\n",
    "        \"fungal_folklore\": \"In Italian folklore, finding a King Bolete is a sign of prosperity; chefs guard their foraging spots like treasure.\"\n",
    "    },\n",
    "    \"Morchella_esculenta\": {\n",
    "        \"common_name\": \"Yellow Morel\",\n",
    "        \"edibility\": \"Edible\",\n",
    "        \"habitat\": \"Burned forests, orchards, and disturbed soils\",\n",
    "        \"spore_print_color\": \"Cream to yellowish\",\n",
    "        \"fungal_folklore\": \"In French tales, morels are 'fairy cups' left by woodland spirits to collect morning dew.\"\n",
    "    },\n",
    "    \"Cantharellus_cibarius\": {\n",
    "        \"common_name\": \"Chanterelle\",\n",
    "        \"edibility\": \"Edible\",\n",
    "        \"habitat\": \"Grassy areas, mossy coniferous forests\",\n",
    "        \"spore_print_color\": \"Pale yellow\",\n",
    "        \"fungal_folklore\": \"Nordic myths claim chanterelles glow faintly at night, guiding lost travelers to safety.\"\n",
    "    },\n",
    "    \"Claviceps_purpurea\": {\n",
    "        \"common_name\": \"Ergot\",\n",
    "        \"edibility\": \"Toxic\",\n",
    "        \"habitat\": \"Parasitic on rye and other grasses\",\n",
    "        \"spore_print_color\": \"Not applicable (produces sclerotia, not typical spores)\",\n",
    "        \"fungal_folklore\": \"Linked to medieval 'dancing plagues' and witchcraft trials, as its toxins caused hallucinations and convulsions.\"\n",
    "    }\n",
    "}\n",
    "\n",
    "# Example: Accessing data\n",
    "print(mushroom_catalog[\"Amanita_muscaria\"][\"common_name\"])  # Output: Fly Agaric\n",
    "print(mushroom_catalog[\"Morchella_esculenta\"][\"fungal_folklore\"]) \n",
    "\n",
    "for key in mushroom_catalog:\n",
    "    print(f\"{key}: {mushroom_catalog[key]['common_name']}\")\n",
    "\n",
    "for i in mushroom_catalog:\n",
    "    print(f\"{i}: {mushroom_catalog[i]['common_name']}\")\n",
    "    print(f\"Edibility: {mushroom_catalog[i]['edibility']}\")\n",
    "    print(f\"Habitat: {mushroom_catalog[i]['habitat']}\")\n",
    "    print(f\"Spore Print Color: {mushroom_catalog[i]['spore_print_color']}\")\n",
    "    print(f\"Fungal Folklore: {mushroom_catalog[i]['fungal_folklore']}\\n\")"
   ]
  },
  {
   "cell_type": "code",
   "execution_count": null,
   "id": "1669e3fd",
   "metadata": {},
   "outputs": [],
   "source": [
    "mushrooms = ['Fly Agaric', 'King Bolete', 'Yellow Morel', 'Chanterelle', 'Ergot']\n",
    "print(set(mushrooms))  # Convert list to set to remove duplicates"
   ]
  },
  {
   "cell_type": "code",
   "execution_count": null,
   "id": "4c9209f1",
   "metadata": {},
   "outputs": [],
   "source": [
    "a = {1, 2, 3, 4, 5}\n",
    "b = {4, 5, 6, 7, 8}\n",
    "print(a | b)  # Union of sets\n",
    "print(a & b)  # Intersection of sets\n",
    "print(a - b)  # Difference of sets\n",
    "print(a ^ b)  # Symmetric difference of sets\n",
    "print(a.issubset(b))  # Check if a is a subset of b\n",
    "print(a.issuperset(b))  # Check if a is a superset of b\n",
    "print(a.isdisjoint(b))  # Check if a and b are disjoint sets"
   ]
  },
  {
   "cell_type": "code",
   "execution_count": null,
   "id": "17f26871",
   "metadata": {},
   "outputs": [],
   "source": [
    "# Real World Example\n",
    "\n",
    "students = [\n",
    "    {'id': 1, 'name': 'Keyser', 'grade': [90, 85, 88]},\n",
    "    {'id': 2, 'name': 'Söze', 'grade': [78, 82, 80]},\n",
    "    {'id': 3, 'name': 'Verbal', 'grade': [95, 92, 94]},\n",
    "    {'id': 4, 'name': 'Kint', 'grade': [70, 75, 72]}\n",
    "]"
   ]
  },
  {
   "cell_type": "code",
   "execution_count": null,
   "id": "66a94889",
   "metadata": {},
   "outputs": [],
   "source": [
    "for student in students:\n",
    "    student['average'] = sum(student['grade']) / len(student['grade'])\n",
    "    print(f\"Student ID: {student['id']}, Name: {student['name']}, Average Grade: {student['average']:.2f}\")"
   ]
  },
  {
   "cell_type": "code",
   "execution_count": null,
   "id": "56d6628b",
   "metadata": {},
   "outputs": [],
   "source": [
    "# Find the highest average\n",
    "\n",
    "highest_avg_student = max(students, key=lambda x: x['average'])\n",
    "print(f\"Student with the highest average: {highest_avg_student['name']} with an average of {highest_avg_student['average']:.2f}\")"
   ]
  },
  {
   "cell_type": "markdown",
   "id": "0585b781",
   "metadata": {},
   "source": [
    "## Functions"
   ]
  },
  {
   "cell_type": "code",
   "execution_count": null,
   "id": "e4cb81c5",
   "metadata": {},
   "outputs": [],
   "source": [
    "def measure_signal_strength(signal = None):\n",
    "    return sum(signal) / len(signal) if signal else 0.0\n",
    "\n",
    "primary_signal_check = measure_signal_strength([1, 2, 3, 4, 5])\n",
    "print(f\"Primary signal strength: {primary_signal_check:.2f}\")"
   ]
  },
  {
   "cell_type": "code",
   "execution_count": null,
   "id": "d0eee38c",
   "metadata": {},
   "outputs": [],
   "source": [
    "aux_signal = [4, 4, 2, 3, 4]\n",
    "aux_signal_check = measure_signal_strength(aux_signal)\n",
    "print(f\"Auxiliary signal strength: {aux_signal_check:.2f}\")"
   ]
  },
  {
   "cell_type": "code",
   "execution_count": null,
   "id": "fa46e45e",
   "metadata": {},
   "outputs": [],
   "source": [
    "# Lambda function example (anonymous function) \n",
    "# :small one-line functions\n",
    "\n",
    "def short_function(x):\n",
    "    return x + 1\n",
    "\n",
    "print(short_function(5))"
   ]
  },
  {
   "cell_type": "code",
   "execution_count": null,
   "id": "194445b9",
   "metadata": {},
   "outputs": [],
   "source": [
    "equiv = lambda x: x + 1\n",
    "print(equiv(5))"
   ]
  },
  {
   "cell_type": "code",
   "execution_count": null,
   "id": "5f220cb3",
   "metadata": {},
   "outputs": [],
   "source": [
    "def sweep_numbers(x, y, direction):\n",
    "    if direction == 'up':\n",
    "        return x + y\n",
    "    elif direction == 'down':\n",
    "        return x - y\n",
    "    else:\n",
    "        return None\n",
    "\n",
    "sweep_nums = lambda x, y, direction: x + y if direction == 'up' else x - y if direction == 'down' else None\n",
    "print(sweep_numbers(5, 3, 'up'))  # Output: 8\n",
    "print(sweep_nums(5, 3, 'up'))  # Output: 8"
   ]
  }
 ],
 "metadata": {
  "kernelspec": {
   "display_name": "Python 3",
   "language": "python",
   "name": "python3"
  },
  "language_info": {
   "codemirror_mode": {
    "name": "ipython",
    "version": 3
   },
   "file_extension": ".py",
   "mimetype": "text/x-python",
   "name": "python",
   "nbconvert_exporter": "python",
   "pygments_lexer": "ipython3",
   "version": "3.12.1"
  }
 },
 "nbformat": 4,
 "nbformat_minor": 5
}
