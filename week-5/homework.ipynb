{
 "cells": [
  {
   "cell_type": "markdown",
   "id": "7a944b42",
   "metadata": {},
   "source": [
    "## Lists with different types of data"
   ]
  },
  {
   "cell_type": "code",
   "execution_count": null,
   "id": "ff316585",
   "metadata": {},
   "outputs": [],
   "source": [
    "# A list of strings\n",
    "\n",
    "names = [\"Yuri\", \"Mark\", \"Trina\"]\n",
    "print(names)    # prints the list of names\n",
    "names.append(\"Marie\")\n",
    "print(names)    # prints the list of names with Marie added\n",
    "names.remove(\"Mark\")\n",
    "print(names)    # prints the list of names with Mark removed\n",
    "\n",
    "print(f\"Number of names: {len(names)}\")  # prints the number of names in the list\n",
    "print(\"Names in alphabetical order:\")\n",
    "names.sort()\n",
    "for name in names:\n",
    "    print(name)  # prints the names in alphabetical order"
   ]
  },
  {
   "cell_type": "code",
   "execution_count": null,
   "id": "bbb5d6d5",
   "metadata": {},
   "outputs": [],
   "source": [
    "# A list of floats\n",
    "\n",
    "measurements = [-2.5, 1.1, 7.5, 14.6, 21.0, 19.2]\n",
    "\n",
    "for measure in measurements:\n",
    "    print(measure)\n",
    "\n",
    "mean = sum(measurements) / len(measurements)\n",
    "\n",
    "print(f\"The mean is: {mean:.2f}\")"
   ]
  },
  {
   "cell_type": "code",
   "execution_count": null,
   "id": "613d1ebc",
   "metadata": {},
   "outputs": [],
   "source": [
    "# Dynamic systems, signal processing, and control engineering use floats for precision\n",
    "# and to represent real-world measurements.\n",
    "\n",
    "import time\n",
    "\n",
    "# List to store processing times\n",
    "processing_times = []\n",
    "\n",
    "# Perform 5 different operations\n",
    "for _ in range(5):\n",
    "    start_time = time.perf_counter()  # Start timing\n",
    "    \n",
    "    # Operation 1: List comprehension\n",
    "    squares = [x**2 for x in range(1000)]\n",
    "    \n",
    "    # Operation 2: String concatenation\n",
    "    concatenated = \"\".join([\"Hello\" for _ in range(1000)])\n",
    "    \n",
    "    # Operation 3: Dictionary creation\n",
    "    dictionary = {x: x**2 for x in range(1000)}\n",
    "    \n",
    "    # Operation 4: Sorting a list\n",
    "    sorted_list = sorted([x for x in range(1000, 0, -1)])\n",
    "    \n",
    "    # Operation 5: Summing a list\n",
    "    total = sum(range(1000))\n",
    "    \n",
    "    end_time = time.perf_counter()  # End timing\n",
    "    \n",
    "    # Record the time in milliseconds\n",
    "    processing_times.append((end_time - start_time) * 1000)\n",
    "\n",
    "# Print the processing times for each operation\n",
    "print(processing_times)\n",
    "\n",
    "# Calculate and print the average processing time\n",
    "average_time = sum(processing_times) / len(processing_times)\n",
    "print(f\"Average processing time: {average_time:.2f} ms\")"
   ]
  },
  {
   "cell_type": "code",
   "execution_count": null,
   "id": "2005bac2",
   "metadata": {},
   "outputs": [],
   "source": [
    "# Predict the average daily energy output of a solar setup, limited by battery capacity.\n",
    "\n",
    "def calculate_average_output(power_rating, battery_capacity, peak_sun_hours=5.0, system_efficiency=0.75):\n",
    "    \"\"\"\n",
    "    Calculate the average daily energy output of a solar setup, limited by battery capacity.\n",
    "\n",
    "    Args:\n",
    "        power_rating (float): Maximum power output of the solar panel in Watts (at MPP).\n",
    "        battery_capacity (float): Battery storage capacity in kWh.\n",
    "        peak_sun_hours (float, optional): Equivalent hours of peak sunlight per day. Defaults to 5.0.\n",
    "        system_efficiency (float, optional): System efficiency (e.g., panel, inverter, wiring losses).\n",
    "                                          Defaults to 0.75 (75%).\n",
    "\n",
    "    Returns:\n",
    "        float: Average daily energy output available in kWh, capped by battery capacity.\n",
    "\n",
    "    Raises:\n",
    "        ValueError: If power_rating, battery_capacity, peak_sun_hours, or system_efficiency is invalid.\n",
    "    \"\"\"\n",
    "    # Input validation\n",
    "    if power_rating <= 0:\n",
    "        raise ValueError(\"Power rating must be positive!\")\n",
    "    if battery_capacity <= 0:\n",
    "        raise ValueError(\"Battery capacity must be positive!\")\n",
    "    if peak_sun_hours <= 0:\n",
    "        raise ValueError(\"Peak sun hours must be positive!\")\n",
    "    if not 0 < system_efficiency <= 1:\n",
    "        raise ValueError(\"System efficiency must be between 0 and 1.\")\n",
    "\n",
    "    # Calculate daily energy production in kWh\n",
    "    # Energy (kWh) = Power (W) * Hours * Efficiency / 1000\n",
    "    daily_energy_production = (power_rating * peak_sun_hours * system_efficiency) / 1000\n",
    "\n",
    "    # Cap the output by battery capacity\n",
    "    average_output = min(daily_energy_production, battery_capacity)\n",
    "\n",
    "    return average_output\n",
    "\n",
    "\n",
    "# Example setups (using realistic panel power ratings in Watts)\n",
    "# Assuming panels are sized to match the battery capacities\n",
    "setup1 = calculate_average_output(power_rating=1000, battery_capacity=4.0)  # 1kW panel, 4kWh battery\n",
    "setup2 = calculate_average_output(power_rating=1500, battery_capacity=6.0)  # 1.5kW panel, 6kWh battery\n",
    "setup3 = calculate_average_output(power_rating=2000, battery_capacity=8.0)  # 2kW panel, 8kWh battery\n",
    "\n",
    "# Print results\n",
    "print(f\"Setup 1 Average Output: {setup1:.2f} kWh\")\n",
    "print(f\"Setup 2 Average Output: {setup2:.2f} kWh\")\n",
    "print(f\"Setup 3 Average Output: {setup3:.2f} kWh\")\n",
    "\n",
    "# Edge case: Zero battery capacity\n",
    "try:\n",
    "    calculate_average_output(1000, 0)\n",
    "except ValueError as e:\n",
    "    print(e)  # Should print: Battery capacity must be positive\n",
    "\n",
    "# Edge case: High power, low battery\n",
    "print(calculate_average_output(5000, 1.0))  # Should return 1.0 kWh (capped by battery)\n",
    "\n",
    "# Edge case: Different sunlight hours\n",
    "print(calculate_average_output(1000, 4.0, peak_sun_hours=3.0))  # Should return 2.25 kWh"
   ]
  },
  {
   "cell_type": "code",
   "execution_count": 13,
   "id": "e4b1ec8d",
   "metadata": {},
   "outputs": [
    {
     "name": "stdout",
     "output_type": "stream",
     "text": [
      "The longest string is: temperature\n"
     ]
    }
   ],
   "source": [
    "# The longest string\n",
    "\n",
    "def longest_string(strings):\n",
    "    if not strings:\n",
    "        return None\n",
    "    longest = strings[0]\n",
    "    for string in strings:\n",
    "        if len(string) > len(longest):\n",
    "            longest = string\n",
    "    return longest\n",
    "\n",
    "if __name__ == \"__main__\":\n",
    "    # Example usage\n",
    "    strings = [\"length\", \"distance\", \"force\", \"temperature\"]\n",
    "    print(f\"The longest string is: {longest_string(strings)}\")"
   ]
  },
  {
   "cell_type": "code",
   "execution_count": 16,
   "id": "73c9eba2",
   "metadata": {},
   "outputs": [
    {
     "name": "stdout",
     "output_type": "stream",
     "text": [
      "Count of 1 in the list: 3\n"
     ]
    }
   ],
   "source": [
    "def count_matching_elements(elements: list, target: int):\n",
    "    count = 0\n",
    "    for element in elements:\n",
    "        for item in element:\n",
    "            if item == target:\n",
    "                count += 1 \n",
    "    return count\n",
    "\n",
    "# Example usage\n",
    "elements = [[1, 2, 3], [4, 5, 1], [2, 1, 3]]\n",
    "target = 1\n",
    "result = count_matching_elements(elements, target)\n",
    "print(f\"Count of {target} in the list: {result}\")"
   ]
  },
  {
   "cell_type": "code",
   "execution_count": 25,
   "id": "cf5aeaab",
   "metadata": {},
   "outputs": [
    {
     "name": "stdout",
     "output_type": "stream",
     "text": [
      "Empty squares: 10\n",
      "Player 1: 8\n",
      "Player 2: 7\n",
      "WINNER: 1\n"
     ]
    }
   ],
   "source": [
    "def who_won(board: list):\n",
    "    \"\"\"\n",
    "    Determine who has the most pieces on the board.\n",
    "    Args:\n",
    "        board (list): A 2D list representing the game board.\n",
    "    \"\"\"\n",
    "\n",
    "    # Count the number of pieces for each player\n",
    "    empty_squares = sum(row.count('0') for row in board)\n",
    "    print(f\"Empty squares: {empty_squares}\")\n",
    "    player1_count = sum(row.count('1') for row in board)\n",
    "    print(f\"Player 1: {player1_count}\")\n",
    "    player2_count = sum(row.count('2') for row in board)\n",
    "    print(f\"Player 2: {player2_count}\")\n",
    "\n",
    "    # Determine the winner\n",
    "    if player1_count > player2_count:\n",
    "        return \"1\"\n",
    "    elif player2_count > player1_count:\n",
    "        return \"2\"\n",
    "    else:\n",
    "        return \"0\"\n",
    "\n",
    "# Example usage\n",
    "board = [\n",
    "    ['1', '2', '1', '0', '0'],\n",
    "    ['0', '1', '2', '0', '1'],\n",
    "    ['2', '0', '1', '2', '0'],\n",
    "    ['1', '2', '0', '1', '2'],\n",
    "    ['0', '0', '1', '2', '0']\n",
    "]\n",
    "\n",
    "result = who_won(board)\n",
    "print(f\"WINNER: {result}\")  # Should print \"1\" if player 1 has more pieces"
   ]
  },
  {
   "cell_type": "markdown",
   "id": "3c1fdc4b",
   "metadata": {},
   "source": [
    "## References"
   ]
  },
  {
   "cell_type": "code",
   "execution_count": 26,
   "id": "cdc1f23d",
   "metadata": {},
   "outputs": [
    {
     "name": "stdout",
     "output_type": "stream",
     "text": [
      "2416994907584\n"
     ]
    }
   ],
   "source": [
    "a = [-1, 0, 1]\n",
    "print(id(a))  # Print the memory address of the list"
   ]
  }
 ],
 "metadata": {
  "kernelspec": {
   "display_name": "Python 3",
   "language": "python",
   "name": "python3"
  },
  "language_info": {
   "codemirror_mode": {
    "name": "ipython",
    "version": 3
   },
   "file_extension": ".py",
   "mimetype": "text/x-python",
   "name": "python",
   "nbconvert_exporter": "python",
   "pygments_lexer": "ipython3",
   "version": "3.12.1"
  }
 },
 "nbformat": 4,
 "nbformat_minor": 5
}
