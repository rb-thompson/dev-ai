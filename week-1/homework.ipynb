{
 "cells": [
  {
   "cell_type": "code",
   "execution_count": 1,
   "id": "09c20f16",
   "metadata": {},
   "outputs": [
    {
     "name": "stdout",
     "output_type": "stream",
     "text": [
      "Brandon\n",
      "Brandon\n"
     ]
    }
   ],
   "source": [
    "# Name Twice\n",
    "\n",
    "name = str(input(\"What is your name?: \"))\n",
    "print(f\"{name}\\n{name}\")"
   ]
  },
  {
   "cell_type": "code",
   "execution_count": 2,
   "id": "dd7a91e5",
   "metadata": {},
   "outputs": [
    {
     "name": "stdout",
     "output_type": "stream",
     "text": [
      "\n",
      "Python is awesome because:\n",
      "- Python is for everyone!\n",
      "- It makes life easier.\n",
      "- It's used everywhere.\n",
      "- Simple and clean syntax.\n",
      "- No need to worry about complex stuff.\n",
      "- Works on all platforms.\n",
      "- Massive support community.\n",
      "- High demand and high salary.\n",
      "- A skill for the future.\n",
      "- Just waiting to be learned!\n"
     ]
    }
   ],
   "source": [
    "# Python is awesome because..\n",
    "\n",
    "advantages = [\n",
    "    \"Python is for everyone!\",\n",
    "    \"It makes life easier.\",\n",
    "    \"It's used everywhere.\",\n",
    "    \"Simple and clean syntax.\",\n",
    "    \"No need to worry about complex stuff.\",\n",
    "    \"Works on all platforms.\",\n",
    "    \"Massive support community.\",\n",
    "    \"High demand and high salary.\",\n",
    "    \"A skill for the future.\",\n",
    "    \"Just waiting to be learned!\",\n",
    "]\n",
    "\n",
    "print(\"\\nPython is awesome because:\")\n",
    "for i in advantages:\n",
    "    print(f\"- {i}\")"
   ]
  }
 ],
 "metadata": {
  "kernelspec": {
   "display_name": "Python 3",
   "language": "python",
   "name": "python3"
  },
  "language_info": {
   "codemirror_mode": {
    "name": "ipython",
    "version": 3
   },
   "file_extension": ".py",
   "mimetype": "text/x-python",
   "name": "python",
   "nbconvert_exporter": "python",
   "pygments_lexer": "ipython3",
   "version": "3.12.1"
  }
 },
 "nbformat": 4,
 "nbformat_minor": 5
}
