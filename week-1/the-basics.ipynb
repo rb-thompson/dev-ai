{
 "cells": [
  {
   "cell_type": "code",
   "execution_count": null,
   "metadata": {},
   "outputs": [],
   "source": [
    "print('Hello, \\nCode:You Learners')   # My excellent Python script that prints a greeting message."
   ]
  },
  {
   "cell_type": "code",
   "execution_count": null,
   "metadata": {},
   "outputs": [],
   "source": [
    "print('Hello, \\nCode:You \\tLearners!')"
   ]
  },
  {
   "cell_type": "code",
   "execution_count": null,
   "metadata": {},
   "outputs": [],
   "source": [
    "iname = \"Rama Kattunga\"\n",
    "print(iname)"
   ]
  },
  {
   "cell_type": "code",
   "execution_count": null,
   "metadata": {},
   "outputs": [],
   "source": [
    "name = input(\"Enter your name: \")\n",
    "\n",
    "print(\"Hello, \" , name , 1.5)"
   ]
  },
  {
   "cell_type": "code",
   "execution_count": 17,
   "metadata": {},
   "outputs": [
    {
     "name": "stdout",
     "output_type": "stream",
     "text": [
      "Instructor Name: Rama Kattunga, he is very knowledgable and engaging teacher.\n"
     ]
    }
   ],
   "source": [
    "# The Fantastic Four: Variable Examples\n",
    "instructor_name = \"Rama Kattunga\"\n",
    "instructor_age = 25\n",
    "height = 72.5\n",
    "is_student = True\n",
    "\n",
    "print(f\"Instructor Name: {instructor_name}, he is very knowledgable and engaging teacher.\")"
   ]
  }
 ],
 "metadata": {
  "kernelspec": {
   "display_name": "Python 3",
   "language": "python",
   "name": "python3"
  },
  "language_info": {
   "codemirror_mode": {
    "name": "ipython",
    "version": 3
   },
   "file_extension": ".py",
   "mimetype": "text/x-python",
   "name": "python",
   "nbconvert_exporter": "python",
   "pygments_lexer": "ipython3",
   "version": "3.12.1"
  }
 },
 "nbformat": 4,
 "nbformat_minor": 2
}
