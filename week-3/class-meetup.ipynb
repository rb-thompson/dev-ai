{
 "cells": [
  {
   "cell_type": "code",
   "execution_count": null,
   "id": "c13c2b99",
   "metadata": {},
   "outputs": [],
   "source": [
    "%pip install colorama\n",
    "import colorama\n",
    "\n",
    "cap = 42\n",
    "\n",
    "while cap > 0:\n",
    "    cap -= 1\n",
    "    if cap % 3 == 0:\n",
    "        print(colorama.Fore.RED + \"*\" * 5)\n",
    "    elif cap % 5 == 0:\n",
    "        print(colorama.Fore.BLUE + \"~\" * 5)\n",
    "\n",
    "    if cap == 0:\n",
    "        print(colorama.Fore.GREEN + \"Reached the cap of 42 iterations.\")\n",
    "        break"
   ]
  },
  {
   "cell_type": "markdown",
   "id": "9b97eef5",
   "metadata": {},
   "source": [
    "## Temperature Monitor"
   ]
  },
  {
   "cell_type": "code",
   "execution_count": null,
   "id": "6bc9f28c",
   "metadata": {},
   "outputs": [],
   "source": [
    "temps = []\n",
    "while True:\n",
    "    entry = input(\"Enter temperture (C) or 'exit' to quit: \")\n",
    "    if entry.lower() == 'exit':\n",
    "        break\n",
    "    try:\n",
    "        temp = float(entry)\n",
    "        temps.append(temp)\n",
    "    except ValueError:\n",
    "        print(\"Invalid input. Try again.\")\n",
    "        continue\n",
    "\n",
    "    print(f\"Current average: {sum(temps) / len(temps):.1f} C\")"
   ]
  },
  {
   "cell_type": "markdown",
   "id": "b817df1a",
   "metadata": {},
   "source": [
    "## Nested Loops"
   ]
  },
  {
   "cell_type": "code",
   "execution_count": null,
   "id": "20ede703",
   "metadata": {},
   "outputs": [],
   "source": [
    "size = 5 # initial size\n",
    "for i in range(1, size+1):\n",
    "    for j in range(i):\n",
    "        print(\"*\", end=\"\")\n",
    "    print(\" ---->done\")"
   ]
  },
  {
   "cell_type": "markdown",
   "id": "e4db82ca",
   "metadata": {},
   "source": [
    "## Indexing and Slicing Methods"
   ]
  },
  {
   "cell_type": "code",
   "execution_count": null,
   "id": "ec3fd852",
   "metadata": {},
   "outputs": [],
   "source": [
    "my_string = \"A Process of Inquiry\" \n",
    "print(len(my_string))\n",
    "print(f\"Every alternate character: {my_string[::2]}\")\n",
    "\n",
    "#START:END:STEP"
   ]
  },
  {
   "cell_type": "markdown",
   "id": "ffde25a6",
   "metadata": {},
   "source": [
    "## Parameters & Arguments"
   ]
  },
  {
   "cell_type": "code",
   "execution_count": null,
   "id": "10ef0397",
   "metadata": {},
   "outputs": [],
   "source": [
    "def underline(text, symbol=\"-\"):\n",
    "    \"\"\"Underline a string with a specified symbol.\"\"\"\n",
    "    print(text)\n",
    "    print(symbol * len(text))\n",
    "\n",
    "underline(\"Important Notice\", symbol=\"-\")"
   ]
  },
  {
   "cell_type": "code",
   "execution_count": null,
   "id": "689707b2",
   "metadata": {},
   "outputs": [],
   "source": [
    "# Area of a circle, square, or triangle (shape, dimension)\n",
    "# __name__ is set to the file name\n",
    "\n",
    "def calculate_area(shape, dimension):\n",
    "    if shape == \"circle\":\n",
    "        return 3.14 * (dimension ** 2)\n",
    "    elif shape == \"square\":\n",
    "        return dimension ** 2\n",
    "    elif shape == \"triangle\":\n",
    "        return (dimension ** 2) / 2\n",
    "    else:\n",
    "        return None\n",
    "\n",
    "if __name__ == \"__main__\":\n",
    "    print(\"Area of circle with radius 5:\", calculate_area(\"circle\", 5))\n",
    "    print(\"Area of square with side 4:\", calculate_area(\"square\", 4))\n",
    "    print(\"Area of triangle with base 4:\", calculate_area(\"triangle\", 4))"
   ]
  },
  {
   "cell_type": "markdown",
   "id": "968a1c70",
   "metadata": {},
   "source": [
    "## Password Strength Checker"
   ]
  },
  {
   "cell_type": "code",
   "execution_count": null,
   "id": "3a28e4c8",
   "metadata": {},
   "outputs": [],
   "source": [
    "def is_strong_password(password):\n",
    "    if len(password) < 8:\n",
    "        return False\n",
    "    if not any(c.isupper() for c in password):\n",
    "        return False\n",
    "    if not any(c.isdigit() for c in password):\n",
    "        return False\n",
    "    return True\n",
    "\n",
    "if __name__ == \"__main__\":\n",
    "    test_passwords = [\"Password123\", \"weakpass\", \"12345678\"]\n",
    "    for pw in test_passwords:\n",
    "        print(f\"{pw}: {'Strong' if is_strong_password(pw) else 'Weak'}\")"
   ]
  }
 ],
 "metadata": {
  "kernelspec": {
   "display_name": "Python 3",
   "language": "python",
   "name": "python3"
  },
  "language_info": {
   "codemirror_mode": {
    "name": "ipython",
    "version": 3
   },
   "file_extension": ".py",
   "mimetype": "text/x-python",
   "name": "python",
   "nbconvert_exporter": "python",
   "pygments_lexer": "ipython3",
   "version": "3.12.1"
  }
 },
 "nbformat": 4,
 "nbformat_minor": 5
}
