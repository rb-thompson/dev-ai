{
 "cells": [
  {
   "cell_type": "markdown",
   "id": "ad3dff2a",
   "metadata": {},
   "source": [
    "## Conditional Logic\n",
    "\n",
    "This file demonstrates class topics combined with descriptive examples developed with AI."
   ]
  },
  {
   "cell_type": "code",
   "execution_count": null,
   "id": "8f6036c6",
   "metadata": {},
   "outputs": [],
   "source": [
    "# Conditional logic using loops involves using if, elif, and else statements \n",
    "# inside loops (for and while) to control the flow of your program.\n",
    "\n",
    "# Classic example\n",
    "# Print only even numbers in a list\n",
    "\n",
    "numbers = [1, 2, 3, 4, 5, 6, 7, 8, 9, 10]\n",
    "for num in numbers:\n",
    "    if num % 2 == 0:\n",
    "        print(num)"
   ]
  },
  {
   "cell_type": "code",
   "execution_count": null,
   "id": "58e00d00",
   "metadata": {},
   "outputs": [
    {
     "name": "stdout",
     "output_type": "stream",
     "text": [
      "kanderson is active and verified.\n",
      "mjones is active and verified.\n",
      "['kanderson', 'mjones']\n",
      "Has verified users: True\n",
      "{'username': 'kanderson', 'verified': True, 'active': True}\n",
      "{'username': 'mjones', 'verified': True, 'active': True}\n"
     ]
    }
   ],
   "source": [
    "# Real-World Example\n",
    "# Imagine you're working with a list of user data, and you only want to print users who are verified and active.\n",
    "\n",
    "users = [\n",
    "    {\"username\": \"kanderson\", \"verified\": True, \"active\": True},\n",
    "    {\"username\": \"jdoe\", \"verified\": False, \"active\": True},\n",
    "    {\"username\": \"asmith\", \"verified\": True, \"active\": False},\n",
    "    {\"username\": \"mjones\", \"verified\": True, \"active\": True},\n",
    "]\n",
    "\n",
    "for user in users:\n",
    "    if user[\"active\"] and user[\"verified\"]:\n",
    "        print(f\"{user['username']} is active and verified.\")\n",
    "\n",
    "\n",
    "# List comprehension example, more pythonic way to filter users\n",
    "\n",
    "filtered_users = [u[\"username\"] for u in users if u[\"active\"] and u[\"verified\"]]\n",
    "print(filtered_users)\n",
    "\n",
    "\n",
    "# Generator expression example with any() / all() for Checks\n",
    "\n",
    "has_verified_users = any(u[\"active\"] and u[\"verified\"] for u in users)\n",
    "print(f\"Has verified users: {has_verified_users}\")\n",
    "\n",
    "\n",
    "# Decouple logic into functions (testable & reusable)\n",
    "\n",
    "def is_active_and_verified(users):\n",
    "    return user.get(\"active\") and user.get(\"verified\")\n",
    "\n",
    "for user in users:\n",
    "    if is_active_and_verified(user):\n",
    "        print(user)\n"
   ]
  },
  {
   "cell_type": "markdown",
   "id": "9e4db725",
   "metadata": {},
   "source": [
    "## Real-World Use Case\n",
    "\n",
    "In modern frameworks, data pipelines, and machine learning preprocessing steps, you'll use this kind of logic to:\n",
    "\n",
    "- Filter logs or event streams\n",
    "- Clean data (e.g., drop invalid records)\n",
    "- Build user workflows or permission logic\n",
    "- Control iterative training or simulation loops"
   ]
  },
  {
   "cell_type": "code",
   "execution_count": null,
   "id": "2e32a732",
   "metadata": {},
   "outputs": [
    {
     "name": "stdout",
     "output_type": "stream",
     "text": [
      "Total events: 4, Valid events: 2\n"
     ]
    }
   ],
   "source": [
    "incoming_events = [\n",
    "    {\"type\": \"click\", \"user\": {\"verified\": True, \"id\": 1}},\n",
    "    {\"type\": \"view\", \"user\": {\"verified\": False, \"id\": 2}},\n",
    "    {\"type\": \"click\", \"user\": {\"verified\": True, \"id\": 3}},\n",
    "    {\"type\": \"purchase\", \"user\": {\"verified\": False, \"id\": 4}},\n",
    "]\n",
    "\n",
    "# Pretend we're filtering events in a streaming pipeline\n",
    "\n",
    "def valid_event(event):\n",
    "    return event[\"type\"] == \"click\" and event[\"user\"][\"verified\"]\n",
    "\n",
    "filtered_events = [e for e in incoming_events if valid_event(e)]\n",
    "\n",
    "print(f\"Total events: {len(incoming_events)}, Valid events: {len(filtered_events)}\")"
   ]
  }
 ],
 "metadata": {
  "kernelspec": {
   "display_name": "Python 3",
   "language": "python",
   "name": "python3"
  },
  "language_info": {
   "codemirror_mode": {
    "name": "ipython",
    "version": 3
   },
   "file_extension": ".py",
   "mimetype": "text/x-python",
   "name": "python",
   "nbconvert_exporter": "python",
   "pygments_lexer": "ipython3",
   "version": "3.12.1"
  }
 },
 "nbformat": 4,
 "nbformat_minor": 5
}
