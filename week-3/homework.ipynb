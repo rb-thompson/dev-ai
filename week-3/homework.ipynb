{
 "cells": [
  {
   "cell_type": "markdown",
   "id": "1d132e90",
   "metadata": {},
   "source": [
    "# Conditional Logic"
   ]
  },
  {
   "cell_type": "code",
   "execution_count": null,
   "id": "869c0363",
   "metadata": {},
   "outputs": [],
   "source": [
    "condition = True\n",
    "counter = 1\n",
    "\n",
    "while condition:\n",
    "    print(\"Hello!\")\n",
    "\n",
    "    counter += 1\n",
    "    print(f\"The counter is now {counter}\")\n",
    "\n",
    "    if counter == 5:\n",
    "        condition = False\n",
    "    \n",
    "print(\"All done with the loop!\")"
   ]
  },
  {
   "cell_type": "markdown",
   "id": "d9c85aa7",
   "metadata": {},
   "source": [
    "Initialization, Condition & Update"
   ]
  },
  {
   "cell_type": "code",
   "execution_count": null,
   "id": "5496a46f",
   "metadata": {},
   "outputs": [],
   "source": [
    "number = 1\n",
    "# This loop will continue until the user enters 0\n",
    "\n",
    "while number != 0:\n",
    "    number = int(input(\"Give a number, 0 to stop: \"))\n",
    "\n",
    "    if number != 0:\n",
    "        print(f\"The number times three is {number * 3}\")"
   ]
  },
  {
   "cell_type": "markdown",
   "id": "5435604b",
   "metadata": {},
   "source": [
    "## Break & Continue"
   ]
  },
  {
   "cell_type": "code",
   "execution_count": null,
   "id": "5a068b5c",
   "metadata": {},
   "outputs": [],
   "source": [
    "number = 1 \n",
    "\n",
    "while number < 10:\n",
    "    print(number)\n",
    "\n",
    "    if number == 5:\n",
    "        break   # Immediately exit the loop\n",
    "\n",
    "    number += 1"
   ]
  },
  {
   "cell_type": "code",
   "execution_count": null,
   "id": "604360be",
   "metadata": {},
   "outputs": [],
   "source": [
    "number = 1\n",
    "\n",
    "while number < 10:\n",
    "    number += 1\n",
    "\n",
    "    if number % 3 == 0:\n",
    "        continue    # Skip the rest of the loop\n",
    "\n",
    "    print(f\"The number is now {number}\")"
   ]
  },
  {
   "cell_type": "markdown",
   "id": "b3315ef9",
   "metadata": {},
   "source": [
    "## Nested Loops"
   ]
  },
  {
   "cell_type": "code",
   "execution_count": null,
   "id": "0d8febc2",
   "metadata": {},
   "outputs": [],
   "source": [
    "index1 = 1\n",
    "index2 = 1\n",
    "\n",
    "while index1 <= 5:\n",
    "    while index2 <= 5:\n",
    "        print(f\"{index1} + {index2} = {index1 + index2}\")\n",
    "        index2 +=1\n",
    "    index1 += 1\n",
    "    index2 = 1   # Reset index2 for the next iteration of index1"
   ]
  },
  {
   "cell_type": "code",
   "execution_count": null,
   "id": "c698de2b",
   "metadata": {},
   "outputs": [],
   "source": [
    "while True:\n",
    "    print(\"Hello\")\n",
    "    while True:\n",
    "        print(\"Hello again!\")\n",
    "        break\n",
    "    break   # This break will exit the outer loop"
   ]
  },
  {
   "cell_type": "markdown",
   "id": "c24470d1",
   "metadata": {},
   "source": [
    "## Indexing Strings"
   ]
  },
  {
   "cell_type": "code",
   "execution_count": null,
   "id": "b0371775",
   "metadata": {},
   "outputs": [],
   "source": [
    "# SMART STRING ## A# B# X# Y#\n",
    "name = \"01 A1 99 X1 Y1\"\n",
    "\n",
    "employee = name[0:2]  # Get the first two characters\n",
    "position = name[3:5]  \n",
    "supervisor = name[6:8]\n",
    "department = name[9:11]\n",
    "location = name[12:14]\n",
    "\n",
    "print(f\"Employee #{employee} is a level {position} engineer, supervised by Agent #{supervisor} in Dept. {department} at Location {location}.\")"
   ]
  },
  {
   "cell_type": "markdown",
   "id": "2ad785f2",
   "metadata": {},
   "source": [
    "Check for a substring inside a string."
   ]
  },
  {
   "cell_type": "code",
   "execution_count": 25,
   "id": "60888a32",
   "metadata": {},
   "outputs": [
    {
     "name": "stdout",
     "output_type": "stream",
     "text": [
      "You're talking about cats (again)!\n",
      "It starts at index location 8.\n"
     ]
    }
   ],
   "source": [
    "sentence = input(\"Give a sentence: \")\n",
    "\n",
    "if \"cat\" in sentence:\n",
    "    print(\"You're talking about cats (again)!\")\n",
    "    index_of_cat = sentence.find(\"cat\")\n",
    "    print(f\"It starts at index location {index_of_cat}.\")\n",
    "else:\n",
    "    print(\"You're not talking about cats (this time).\")"
   ]
  },
  {
   "cell_type": "markdown",
   "id": "d5af0b63",
   "metadata": {},
   "source": [
    "## Functions"
   ]
  },
  {
   "cell_type": "code",
   "execution_count": null,
   "id": "0a6c6d53",
   "metadata": {},
   "outputs": [
    {
     "data": {
      "text/plain": [
       "'Top Level Clearance'"
      ]
     },
     "execution_count": 26,
     "metadata": {},
     "output_type": "execute_result"
    }
   ],
   "source": [
    "# Write a function that takes a string and returns the clearance status of a employee.\n",
    "\n",
    "string = \"01 A1 99 X1 Y1\"\n",
    "\n",
    "def get_clearance_status(string):\n",
    "    clearance = string[3:5]\n",
    "    if clearance == \"A1\":\n",
    "        return \"Top Level Clearance\"\n",
    "    elif clearance == \"B1\":\n",
    "        return \"Level 2 Clearance\"\n",
    "    elif clearance == \"C1\":\n",
    "        return \"Level 3 Clearance\"\n",
    "    elif clearance == \"D1\":\n",
    "        return \"Soft Clearance\"\n",
    "    else:\n",
    "        return \"No Clearance\"\n",
    "    \n",
    "get_clearance_status(string)"
   ]
  }
 ],
 "metadata": {
  "kernelspec": {
   "display_name": "Python 3",
   "language": "python",
   "name": "python3"
  },
  "language_info": {
   "codemirror_mode": {
    "name": "ipython",
    "version": 3
   },
   "file_extension": ".py",
   "mimetype": "text/x-python",
   "name": "python",
   "nbconvert_exporter": "python",
   "pygments_lexer": "ipython3",
   "version": "3.12.1"
  }
 },
 "nbformat": 4,
 "nbformat_minor": 5
}
