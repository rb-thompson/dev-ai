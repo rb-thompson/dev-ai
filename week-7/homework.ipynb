{
 "cells": [
  {
   "cell_type": "markdown",
   "id": "89e25023",
   "metadata": {},
   "source": [
    "## Python Modules"
   ]
  },
  {
   "cell_type": "code",
   "execution_count": null,
   "id": "4805ce65",
   "metadata": {},
   "outputs": [],
   "source": [
    "# The math module provides access to mathematical functions\n",
    "# and constants. It is part of the Python standard library.\n",
    "\n",
    "# *This is the preferred way.\n",
    "import math\n",
    "\n",
    "number = 42\n",
    "\n",
    "# Access the square root function from the math module\n",
    "\n",
    "print(math.sqrt(number)) # returns a float"
   ]
  },
  {
   "cell_type": "code",
   "execution_count": null,
   "id": "b1067baf",
   "metadata": {},
   "outputs": [],
   "source": [
    "from math import sqrt\n",
    "# Importing the square root function directly from the math module\n",
    "\n",
    "print(sqrt(81))"
   ]
  },
  {
   "cell_type": "code",
   "execution_count": null,
   "id": "d1646ed4",
   "metadata": {},
   "outputs": [],
   "source": [
    "# Get info about the math module\n",
    "print(dir(math)) # returns a list of all the attributes and methods of the math module\n",
    "print(help(math)) # returns the documentation for the math module"
   ]
  },
  {
   "cell_type": "code",
   "execution_count": 12,
   "id": "ba647183",
   "metadata": {},
   "outputs": [
    {
     "name": "stdout",
     "output_type": "stream",
     "text": [
      "6\n",
      "-7\n",
      "8\n",
      "-9\n",
      "-9\n",
      "['Yuri', 'Marie', 'David']\n",
      "['Yuri', 'Charlie', 'David']\n",
      "['David', 'Charlie', 'Yuri']\n",
      "['David', 'Yuri', 'Charlie']\n",
      "['Yuri', 'Marie', 'David']\n",
      "['Yuri', 'Marie', 'David']\n",
      "['David', 'Marie', 'Yuri']\n",
      "['Marie', 'Charlie']\n"
     ]
    }
   ],
   "source": [
    "import random as rnd\n",
    "# Importing the random module with an alias\n",
    "for i in range(5):\n",
    "    print(rnd.randint(-10, 10)) # returns a random integer between -10 and 10\n",
    "\n",
    "names = ['Marie', 'Yuri', 'Charlie', 'David']\n",
    "\n",
    "for i in range(7):\n",
    "    # sample() returns a list of unique elements from the list names\n",
    "    print(rnd.sample(names, 3)) # returns a random element from the list names\n",
    "\n",
    "hype_busters = rnd.sample(names, 2) # ex. choose 2 random names\n",
    "rnd.shuffle(hype_busters) # ex. shuffle the order of the list\n",
    "print(hype_busters) # returns the shuffled list of names"
   ]
  },
  {
   "cell_type": "code",
   "execution_count": 18,
   "id": "755a0310",
   "metadata": {},
   "outputs": [
    {
     "name": "stdout",
     "output_type": "stream",
     "text": [
      "2025-05-08 12:34:15.324474\n",
      "The celebration is Friday, July 04, 2025\n",
      "Yippee! Fire up the grills!\n"
     ]
    }
   ],
   "source": [
    "from datetime import datetime as dt\n",
    "\n",
    "now = dt.now() # returns the current date and time\n",
    "print(now)\n",
    "\n",
    "celebration = dt(2025, 7, 4) # returns a specific date\n",
    "print(celebration.strftime(\"The celebration is %A, %B %d, %Y\")) # returns the date in a specific format\n",
    "\n",
    "if celebration > now:\n",
    "    print(\"Yippee! Fire up the grills!\")\n",
    "else:\n",
    "    print(\"The celebration has past. Next year!\")"
   ]
  }
 ],
 "metadata": {
  "kernelspec": {
   "display_name": "Python 3",
   "language": "python",
   "name": "python3"
  },
  "language_info": {
   "codemirror_mode": {
    "name": "ipython",
    "version": 3
   },
   "file_extension": ".py",
   "mimetype": "text/x-python",
   "name": "python",
   "nbconvert_exporter": "python",
   "pygments_lexer": "ipython3",
   "version": "3.12.1"
  }
 },
 "nbformat": 4,
 "nbformat_minor": 5
}
