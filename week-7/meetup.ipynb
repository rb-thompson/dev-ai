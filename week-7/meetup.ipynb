{
 "cells": [
  {
   "cell_type": "markdown",
   "id": "f15945d1",
   "metadata": {},
   "source": [
    "# Metaprompts\n",
    "\n",
    "- Prompt Title\n",
    "- Objective\n",
    "- Context/Background\n",
    "- Target Audience\n",
    "- Tone and Style\n",
    "- Key Requirements\n",
    "- Format/Structure\n",
    "- Additional Instructions\n",
    "- Output Length\n",
    "- Example\n",
    "- Follow-Up Action\n",
    "- Request for Customization\n",
    "\n",
    "*Output is limited to the context buffer."
   ]
  },
  {
   "cell_type": "markdown",
   "id": "84e30db6",
   "metadata": {},
   "source": [
    "# Examples\n",
    "\n",
    "## Children's Book (Kindness Quest)"
   ]
  },
  {
   "cell_type": "code",
   "execution_count": null,
   "id": "5754f17e",
   "metadata": {},
   "outputs": [],
   "source": [
    "# My custom prompt\n",
    "\n",
    "**Prompt Title**: Code & Crop Quest\n",
    "\n",
    "**Objective**: Craft a children’s story (ages 5-8) blending coding, farming, and a techno-accelerated lifestyle, teaching a lesson about kindness or collaboration.\n",
    "\n",
    "**Context**: For Week 6 of code-you.org’s AI course, exploring AI-driven storytelling for creativity and employable skills.\n",
    "\n",
    "**Target Audience**: Kids 5-8 (simple, vibrant) and beginner-to-intermediate AI students.\n",
    "\n",
    "**Tone and Style**: Playful, techy, and earthy with short, lively sentences.\n",
    "\n",
    "**Key Requirements**:\n",
    "- Main character: A young tech-savvy animal facing a challenge in sharing resources or helping others.\n",
    "- Moral: Kindness grows community (or alt: collaboration builds success).\n",
    "- 3-5 short chapters/scenes for a 10-page book.\n",
    "- Illustration ideas for each chapter.\n",
    "\n",
    "**Format**: Story outline with title, characters, chapter summaries, moral. Separate \"Visual Ideas\" section.\n",
    "\n",
    "**Additional Instructions**: Keep it simple, avoid dark themes. Use dialogue for energy. End with a coding/farming-themed writing tip for students.\n",
    "\n",
    "**Output Length**: 500-800 words.\n",
    "\n",
    "**Additional Moral**: Collaboration makes dreams grow bigger.\n",
    "\n",
    "**Follow-Up**: Students adapt the outline into a story for class.\n",
    "\n"
   ]
  },
  {
   "cell_type": "markdown",
   "id": "e6d46b30",
   "metadata": {},
   "source": [
    "# Polished Custom Prompt\n",
    "\n",
    "Prompt Title: Code & Crop Quest\n",
    "Objective:\n",
    "Create a playful, tech-inspired children's story outline (for ages 5-8) that blends themes of coding, farming, and a fast-paced, technology-enhanced lifestyle. The story should teach an accessible lesson about kindness, collaboration, and community-building.\n",
    "\n",
    "Context:\n",
    "This is for Week 6 of code-you.org’s AI creativity course, focusing on AI-assisted storytelling as a tool for nurturing both creativity and employable digital skills.\n",
    "\n",
    "Target Audience:\n",
    "\n",
    "Children ages 5-8 (simple language, colorful imagery, positive messages).\n",
    "\n",
    "Beginner-to-intermediate AI students experimenting with storytelling prompts.\n",
    "\n",
    "Tone & Style:\n",
    "\n",
    "Playful, techy, and earthy.\n",
    "\n",
    "Short, lively sentences.\n",
    "\n",
    "Use dialogue to keep scenes energetic and engaging.\n",
    "\n",
    "Key Requirements:\n",
    "\n",
    "Main Character: A young, tech-savvy animal who encounters a challenge involving sharing resources or helping others.\n",
    "\n",
    "Theme/Moral:\n",
    "\n",
    "Primary: Kindness grows community.\n",
    "\n",
    "Optional/Secondary: Collaboration makes dreams grow bigger.\n",
    "\n",
    "Structure:\n",
    "\n",
    "3-5 short chapters or scenes, suitable for a 10-page picture book.\n",
    "\n",
    "Include a simple \"Visual Ideas\" section suggesting illustrations for each chapter or scene.\n",
    "\n",
    "Ending: Include a fun, simple coding or farming-themed writing tip that encourages young readers to reflect on the story's lesson.\n",
    "\n",
    "Format:\n",
    "\n",
    "Story Title\n",
    "\n",
    "Characters\n",
    "\n",
    "Chapter Summaries (3-5 scenes)\n",
    "\n",
    "Moral of the Story\n",
    "\n",
    "Visual Ideas (chapter-by-chapter illustration suggestions)\n",
    "\n",
    "Bonus Tip (coding/farming-inspired reflection or activity)\n",
    "\n",
    "Additional Instructions:\n",
    "\n",
    "Keep the story light, vibrant, and positive.\n",
    "\n",
    "Avoid dark or heavy themes.\n",
    "\n",
    "Use dialogue and action to keep things lively and age-appropriate.\n",
    "\n",
    "Output Length:\n",
    "500-800 words.\n",
    "\n",
    "Follow-Up Task for Students:\n",
    "After reviewing the outline, students will adapt it into a short illustrated story draft as part of the class project."
   ]
  },
  {
   "cell_type": "markdown",
   "id": "69bb57b2",
   "metadata": {},
   "source": [
    "# Output\n",
    "\n",
    "Story Title: Pixel the Pig’s Garden Giggle Code\n",
    "Characters:\n",
    "Pixel the Pig: A tech-savvy, playful pig who loves gadgets and growing digital gardens.\n",
    "\n",
    "Sprocket the Squirrel: A speedy coder who builds tree-top servers.\n",
    "\n",
    "Bloom the Bunny: A cheerful gardener bunny who believes in teamwork.\n",
    "\n",
    "CodeBot: Pixel’s tiny farm helper bot who speaks in beep-boops.\n",
    "\n",
    "Chapter Summaries:\n",
    "Chapter 1: The Glitchy Garden\n",
    "Pixel the Pig built a shiny, high-speed garden on his tablet-shaped farm. He loved coding carrots to grow faster and strawberries to sparkle.\n",
    "But—beep boop—the plants started glitching! Carrots coded themselves into cubes, and the strawberries got stuck in loops.\n",
    "\"Oh no, my garden’s gone goofy!\" squealed Pixel.\n",
    "\n",
    "Chapter 2: Sprocket’s Speedy Suggestion\n",
    "Pixel zipped to Sprocket the Squirrel’s sky server.\n",
    "\"Your code’s running solo, Pixel,\" chattered Sprocket. \"Try adding friends to your farm code.\"\n",
    "\"But I built it myself!\" snorted Pixel.\n",
    "Sprocket tapped his code claws. \"Sometimes, the best code is collab code.\"\n",
    "\n",
    "Chapter 3: Bloom’s Bunny Boost\n",
    "Bloom the Bunny bounced by with a basket of real carrots.\n",
    "\"Pixel, why not share the soil and let everyone add their favorite crops?\" giggled Bloom.\n",
    "Pixel blinked. \"You mean... a community code garden?\"\n",
    "\"Exactly! Let’s mix tech and teamwork!\"\n",
    "\n",
    "Chapter 4: The Big Code & Crop Party\n",
    "Pixel rewrote the farm code, adding a collab loop.\n",
    "Everyone shared seeds, code snippets, and silly vegetable dances.\n",
    "CodeBot beep-booped a happy tune as the garden grew brighter, healthier, and even gigglier.\n",
    "Pixel grinned. \"Turns out, collaboration makes dreams grow bigger!\"\n",
    "\n",
    "Moral of the Story:\n",
    "Kindness and collaboration turn glitches into giggles—and make gardens (and code) grow stronger.\n",
    "\n",
    "Visual Ideas:\n",
    "Chapter 1: Pixel’s sleek tech garden with glowing veggies—plants glitching into funny shapes.\n",
    "\n",
    "Chapter 2: Sprocket’s tree server filled with tangled wires, Pixel pouting as code swirls in the air.\n",
    "\n",
    "Chapter 3: Bloom hopping with a basket of bright veggies, offering them to Pixel on a glowing field.\n",
    "\n",
    "Chapter 4: A colorful party with animals coding together, the garden bursting with rainbow crops and cheerful bots.\n",
    "\n",
    "Bonus Tip:\n",
    "🌱 Code & Crop Tip:\n",
    "Just like farming, coding grows best when you share ideas. Try writing a story where your hero uses a “collab loop” to solve a problem—ask a friend to help code or draw it with you!"
   ]
  },
  {
   "cell_type": "markdown",
   "id": "eb46589f",
   "metadata": {},
   "source": [
    "# Key Concepts Breakdown\n",
    "\n",
    "1. Module Usage and Creation\n",
    "    - Standard library module exploration\n",
    "    - Custom module design principles\n",
    "    - Module import techniques"
   ]
  },
  {
   "cell_type": "code",
   "execution_count": null,
   "id": "fd9cfdb9",
   "metadata": {},
   "outputs": [],
   "source": [
    "import math\n",
    "import string\n",
    "import fractions\n",
    "\n",
    "# Using math module for geometric calculations\n",
    "def calculate_hypotenuse(a, b):\n",
    "    \"\"\"Calculate the hypotenuse of a right triangle given sides a and b.\"\"\"\n",
    "    return math.sqrt(a**2 + b**2)\n",
    "\n",
    "def calculate_area(radius):\n",
    "    \"\"\"Calculate the area of a circle given its radius.\"\"\"\n",
    "    return math.pi * radius**2\n",
    "\n",
    "print(f\"Hypotenuse of a right triangle with sides 3 and 4: {calculate_hypotenuse(3, 4)}\")\n",
    "print(f\"Area of a circle with radius 5: {calculate_area(5)}\")\n",
    "\n",
    "# Working with special characters\n",
    "print(f\"Available punctuation characters: {string.punctuation}\")\n",
    "\n",
    "# Fraction operations\n",
    "frac1 = fractions.Fraction(1, 3)\n",
    "frac2 = fractions.Fraction(1, 6)\n",
    "print(f\"Sum of {frac1} and {frac2}: {frac1 + frac2}\")"
   ]
  },
  {
   "cell_type": "code",
   "execution_count": null,
   "id": "6968bef2",
   "metadata": {},
   "outputs": [],
   "source": [
    "import random\n",
    "import string\n",
    "\n",
    "# Generate unique lottery numbers\n",
    "def generate_lottery_numbers(amount, lower, upper):\n",
    "    return random.sample(range(lower, upper + 1), amount)\n",
    "\n",
    "\n",
    "\n",
    "# Password generator\n",
    "def generate_password(length, use_special_chars=False):\n",
    "    chars = string.ascii_letters + string.digits\n",
    "    if use_special_chars:\n",
    "        chars += string.punctuation\n",
    "    return ''.join(random.choice(chars) for _ in range(length))\n",
    "\n",
    "print(f\"Generated password: {generate_password(12, True)}\")\n",
    "print(f\"Generated password without special chars: {generate_password(12, False)}\")\n",
    "print(f\"Unique lottery numbers: {generate_lottery_numbers(7, 1, 40)}\")"
   ]
  },
  {
   "cell_type": "code",
   "execution_count": null,
   "id": "46120276",
   "metadata": {},
   "outputs": [],
   "source": [
    "# Topic 3: Working with Dates and Times"
   ]
  },
  {
   "cell_type": "code",
   "execution_count": null,
   "id": "50e5a8fd",
   "metadata": {},
   "outputs": [],
   "source": [
    "from datetime import datetime, timedelta\n",
    "\n",
    "# Calculate age\n",
    "def calculate_age(birthdate):\n",
    "    today = datetime.now()\n",
    "    age = today.year - birthdate.year\n",
    "    if today.month < birthdate.month or (today.month == birthdate.month and today.day < birthdate.day):\n",
    "        age -= 1\n",
    "    return age\n",
    "\n",
    "print(f\"Age of someone born on 1990-05-15: {calculate_age(datetime(1990, 5, 15))}\")\n",
    "\n",
    "# Screen time tracker\n",
    "def log_screen_time(log, date, hours, minutes):\n",
    "    log[date] = log.get(date, timedelta()) + timedelta(hours=hours, minutes=minutes)\n",
    "    return log\n",
    "\n",
    "screen_time = {}\n",
    "screen_time = log_screen_time(screen_time, \"2023-03-25\", 2, 30)\n",
    "screen_time = log_screen_time(screen_time, \"2023-03-25\", 1, 45)\n",
    "print(f\"Total screen time on 2023-03-25: {screen_time['2023-03-25']}\")"
   ]
  },
  {
   "cell_type": "code",
   "execution_count": null,
   "id": "d6984b0e",
   "metadata": {},
   "outputs": [],
   "source": [
    "# Exercises for Insomniacs\n",
    "\n",
    "# Create and import a math utils module"
   ]
  },
  {
   "cell_type": "code",
   "execution_count": null,
   "id": "cd35795d",
   "metadata": {},
   "outputs": [],
   "source": [
    "# Write a function to simulate rolling a six-sided die using random.randint(1, 6).\n",
    "# Create a program to randomly shuffle a list of 5 names and print the new order.\n",
    "# Modify the generate_password() function to ensure at least one uppercase letter is included.\n",
    "# Use random.choice() to pick a random word from a list of 10 words and print it as a \"word of the day.\""
   ]
  },
  {
   "cell_type": "markdown",
   "id": "26afb265",
   "metadata": {},
   "source": [
    "# Topic 6: Advanced Python Features"
   ]
  },
  {
   "cell_type": "code",
   "execution_count": null,
   "id": "fa64a22a",
   "metadata": {},
   "outputs": [],
   "source": [
    "# One-liner method is called list comprehension\n",
    "\n",
    "# Create a list of squares of numbers from 1 to 10 using list comprehension\n",
    "squares = [x**2 for x in range(1, 11)]\n",
    "print(f\"Squares of numbers from 1 to 10: {squares}\")\n",
    "\n",
    "# Create a list of division results of numbers from 1000 to 1050 by 7 using list comprehension\n",
    "divisions = [x / 7 for x in range(1000, 1051)]\n",
    "print(f\"Division results of numbers from 1000 to 1050 by 7: {divisions}\")\n",
    "\n",
    "# Organize the divison results into a visual table\n",
    "def print_division_table(divisions):\n",
    "    print(\"Number\\tDivision Result\")\n",
    "    for i, result in enumerate(divisions, start=1000):\n",
    "        print(f\"{i}\\t{result:.2f}\")\n",
    "\n",
    "print_division_table(divisions)"
   ]
  },
  {
   "cell_type": "code",
   "execution_count": 18,
   "id": "94d53d1e",
   "metadata": {},
   "outputs": [
    {
     "name": "stdout",
     "output_type": "stream",
     "text": [
      "['Trevor Johnson', 'Jack Monroe', 'Jane Smith']\n"
     ]
    }
   ],
   "source": [
    "# Lambda function\n",
    "\n",
    "sort_by_last = lambda x: x.split()[-1]\n",
    "names = [\"Jack Monroe\", \"Jane Smith\", \"Trevor Johnson\"]\n",
    "print(sorted(names, key=sort_by_last))"
   ]
  },
  {
   "cell_type": "code",
   "execution_count": 19,
   "id": "76daf1ed",
   "metadata": {},
   "outputs": [
    {
     "name": "stdout",
     "output_type": "stream",
     "text": [
      "Decorated greeting: HELLO, ALICE!\n"
     ]
    }
   ],
   "source": [
    "def uppercase_decorator(func):\n",
    "    def wrapper(*args, **kwargs):\n",
    "        result = func(*args, **kwargs)\n",
    "        return result.upper()\n",
    "    return wrapper\n",
    "@uppercase_decorator\n",
    "def greet(name):\n",
    "    return f\"Hello, {name}!\"\n",
    "\n",
    "print(f\"Decorated greeting: {greet('Alice')}\")"
   ]
  },
  {
   "cell_type": "code",
   "execution_count": null,
   "id": "dea1a61f",
   "metadata": {},
   "outputs": [
    {
     "name": "stdout",
     "output_type": "stream",
     "text": [
      "Temporary file created.\n"
     ]
    }
   ],
   "source": [
    "# Context manager\n",
    "\n",
    "class TempFile:\n",
    "    def __enter__(self):\n",
    "        self.file = open(\"tempfile.txt\", \"w\")\n",
    "        return self.file\n",
    "\n",
    "    def __exit__(self, exc_type, exc_val, exc_tb):\n",
    "        self.file.close()\n",
    "        import os\n",
    "        os.remove(\"tempfile.txt\")\n",
    "\n",
    "with TempFile() as f:\n",
    "    print(\"Temporary file created.\")"
   ]
  }
 ],
 "metadata": {
  "kernelspec": {
   "display_name": "Python 3",
   "language": "python",
   "name": "python3"
  },
  "language_info": {
   "codemirror_mode": {
    "name": "ipython",
    "version": 3
   },
   "file_extension": ".py",
   "mimetype": "text/x-python",
   "name": "python",
   "nbconvert_exporter": "python",
   "pygments_lexer": "ipython3",
   "version": "3.12.1"
  }
 },
 "nbformat": 4,
 "nbformat_minor": 5
}
