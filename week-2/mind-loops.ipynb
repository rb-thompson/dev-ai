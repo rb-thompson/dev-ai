{
 "cells": [
  {
   "cell_type": "markdown",
   "id": "c51ff745",
   "metadata": {},
   "source": [
    "## Conditional Loops"
   ]
  },
  {
   "cell_type": "code",
   "execution_count": 1,
   "id": "a60bf20b",
   "metadata": {},
   "outputs": [
    {
     "name": "stdout",
     "output_type": "stream",
     "text": [
      "You now owe taxes.\n"
     ]
    }
   ],
   "source": [
    "age = int(input(\"What is your age?: \"))\n",
    "\n",
    "if age >= 18:\n",
    "    print(\"You now owe taxes.\")\n",
    "else:\n",
    "    print(\"You do not owe taxes, yet.\")  "
   ]
  },
  {
   "cell_type": "markdown",
   "id": "399c4c86",
   "metadata": {},
   "source": [
    "## Functions and Function Calls"
   ]
  },
  {
   "cell_type": "code",
   "execution_count": null,
   "id": "bc9b2f25",
   "metadata": {},
   "outputs": [
    {
     "name": "stdout",
     "output_type": "stream",
     "text": [
      "Brandon the Excellent\n",
      "Scanning Brandon the Excellent...\n",
      "Scan complete. You may enter the event!\n"
     ]
    }
   ],
   "source": [
    "name = \"Brandon\" # programming is.. bunch of statements\n",
    "name_after_promotion = name + \" the Excellent\" # string concatenation\n",
    "print(name_after_promotion) # print the new name\n",
    "\n",
    "# function definition\n",
    "def scan(name_after_promotion):\n",
    "    print(f\"Scanning {name_after_promotion}...\")    # <-- indented code block\n",
    "    print(\"Scan complete. You may enter the event!\")\n",
    "\n",
    "scan(name_after_promotion) # function call"
   ]
  },
  {
   "cell_type": "markdown",
   "id": "1b44aa6f",
   "metadata": {},
   "source": [
    "## How do you like your coffee?"
   ]
  },
  {
   "cell_type": "code",
   "execution_count": null,
   "id": "07b2bf7f",
   "metadata": {},
   "outputs": [
    {
     "name": "stdout",
     "output_type": "stream",
     "text": [
      "{'name': 'Brandon', 'sweet_tooth': False, 'likes_it_hot': True}\n",
      "Based on your preferences, we recommend a black coffee! How does that sound Brandon?\n"
     ]
    }
   ],
   "source": [
    "# coffee barista that recommends coffee based on user input:\n",
    "\n",
    "customer_order = {}\n",
    "coffee = None\n",
    "\n",
    "customer_order[\"name\"] = input(\"What is your name? \")\n",
    "customer_order[\"sweet_tooth\"] = input(\"Do you like sweet or bitter? \").lower() == \"sweet\"\n",
    "customer_order[\"likes_it_hot\"] = input(\"Do you like hot or cold? \").lower() == \"hot\"\n",
    "\n",
    "print(customer_order)\n",
    "\n",
    "def recommend_coffee(customer_order):\n",
    "    if customer_order[\"sweet_tooth\"] and customer_order[\"likes_it_hot\"]:\n",
    "        coffee = \"honey bee\"\n",
    "    elif customer_order[\"sweet_tooth\"] and not customer_order[\"likes_it_hot\"]:\n",
    "        coffee = \"iced pistachio mocha\"\n",
    "    elif not customer_order[\"sweet_tooth\"] and customer_order[\"likes_it_hot\"]:\n",
    "        coffee = \"black coffee\"\n",
    "    else:\n",
    "        coffee = \"iced coffee\"\n",
    "\n",
    "    print(f\"Based on your preferences, we recommend a {coffee}! How does that sound {customer_order[\"name\"]}?\")\n",
    "\n",
    "recommend_coffee(customer_order)"
   ]
  },
  {
   "cell_type": "markdown",
   "id": "5f8eb2a7",
   "metadata": {},
   "source": [
    "## Grade Classification System"
   ]
  },
  {
   "cell_type": "code",
   "execution_count": null,
   "id": "58345f78",
   "metadata": {},
   "outputs": [
    {
     "name": "stdout",
     "output_type": "stream",
     "text": [
      "Invalid score (198.0). Please enter a number between 0 and 100.\n"
     ]
    }
   ],
   "source": [
    "# Test scores are between 0 and 100, contains decimal values\n",
    "score = float(input(\"Enter Test Score: (0-100): \"))\n",
    "\n",
    "if score < 0 or score > 100:\n",
    "    print(f\"Invalid score ({score}). Please enter a number between 0 and 100.\")\n",
    "elif score >= 90:\n",
    "    print(\"Excellent! You got an A!\")\n",
    "elif score >= 80:\n",
    "    print(\"You got a B. Great job!\")\n",
    "elif score >= 70:\n",
    "    print(\"You got a C. Good job!\")\n",
    "elif score >= 60:\n",
    "    print(\"You got a D. Youch\")\n",
    "else:\n",
    "    print(\"You have failed the test. Retakes available in 2 weeks.\")"
   ]
  },
  {
   "cell_type": "markdown",
   "id": "545f718d",
   "metadata": {},
   "source": [
    "## Costco-Style Membership Discounts"
   ]
  },
  {
   "cell_type": "code",
   "execution_count": 14,
   "id": "3986f4ec",
   "metadata": {},
   "outputs": [
    {
     "name": "stdout",
     "output_type": "stream",
     "text": [
      "Premium user detected. You get a 10% discount!\n"
     ]
    }
   ],
   "source": [
    "is_member = True\n",
    "purchase_amount = 100\n",
    "\n",
    "if is_member and purchase_amount > 50:\n",
    "    print(\"Premium user detected. You get a 10% discount!\")\n",
    "elif is_member and purchase_amount > 25:\n",
    "    print(\"Premium user detected. You get a 5% discount!\")\n",
    "else:\n",
    "    print(\"No discount available.\")"
   ]
  },
  {
   "cell_type": "markdown",
   "id": "87a6d37b",
   "metadata": {},
   "source": [
    "## Local Pizzeria Discount System"
   ]
  },
  {
   "cell_type": "code",
   "execution_count": null,
   "id": "3547e850",
   "metadata": {},
   "outputs": [],
   "source": [
    "age = int(input(\"What is your age?: \"))\n",
    "is_student = input(\"Are you a student? (yes/no): \").lower() == \"yes\"\n",
    "\n",
    "if (age < 18 and is_student) or (age >= 65 and not is_student):\n",
    "    print(\"You are eligible for a discount.\")\n",
    "else:\n",
    "    print(\"You are not eligible for a discount.\")"
   ]
  },
  {
   "cell_type": "markdown",
   "id": "b7413d31",
   "metadata": {},
   "source": [
    "## AND Operator Truth Tables"
   ]
  },
  {
   "cell_type": "code",
   "execution_count": null,
   "id": "10f92a84",
   "metadata": {},
   "outputs": [
    {
     "name": "stdout",
     "output_type": "stream",
     "text": [
      "AND Operator Truth Table: \n",
      "X\tY\t X and Y\n",
      "False\tFalse\t False\n",
      "False\tTrue\t False\n",
      "True\tFalse\t False\n",
      "True\tTrue\t True\n"
     ]
    }
   ],
   "source": [
    "# AND Operator Truth Tables\n",
    "\n",
    "print(\"AND Operator Truth Table: \")\n",
    "print(\"X\\tY\\t X and Y\")\n",
    "for A in [False, True]:\n",
    "    for B in [False, True]:\n",
    "        print(f\"{A}\\t{B}\\t {A and B}\")\n",
    "    "
   ]
  },
  {
   "cell_type": "markdown",
   "id": "9b834714",
   "metadata": {},
   "source": [
    "## Number Guessing Game (While Loops)"
   ]
  },
  {
   "cell_type": "code",
   "execution_count": 28,
   "id": "dc70a6ad",
   "metadata": {},
   "outputs": [
    {
     "name": "stdout",
     "output_type": "stream",
     "text": [
      "Congratulations! You guessed the number!\n"
     ]
    }
   ],
   "source": [
    "# Number guessing game\n",
    "import random\n",
    "secret_number = random.randint(1, 10)\n",
    "\n",
    "guess = int(input(\"Guess a number between 1 and 10: \"))\n",
    "game_over = False\n",
    "attempts = 3\n",
    "\n",
    "while not game_over and attempts > 0:\n",
    "    if guess == secret_number:\n",
    "        print(\"Congratulations! You guessed the number!\")\n",
    "        game_over = True\n",
    "    else:\n",
    "        attempts -= 1\n",
    "        if attempts > 0:\n",
    "            guess = int(input(f\"Wrong guess. You have {attempts} attempts left. Try again: \"))\n",
    "        else:\n",
    "            print(f\"Game over! The correct answer is {secret_number}.\")"
   ]
  },
  {
   "cell_type": "markdown",
   "id": "ca19c7a4",
   "metadata": {},
   "source": [
    "## Try and Catch Block"
   ]
  },
  {
   "cell_type": "code",
   "execution_count": 31,
   "id": "71105986",
   "metadata": {},
   "outputs": [
    {
     "name": "stdout",
     "output_type": "stream",
     "text": [
      "You are 39 years old. User validated!\n"
     ]
    }
   ],
   "source": [
    "valid = False\n",
    "\n",
    "while not valid:\n",
    "    try:\n",
    "        user_age = int(input(\"Enter your age (0-120):\"))\n",
    "        if user_age > 0 and user_age < 120:\n",
    "            print(f\"You are {user_age} years old. User validated!\")\n",
    "            valid = True\n",
    "        else:\n",
    "            print(\"Please enter a valid age.\")\n",
    "    except ValueError:\n",
    "        print(\"Invalid input. Please enter a number between 0 and 120.\")\n"
   ]
  },
  {
   "cell_type": "code",
   "execution_count": null,
   "id": "29eb9508",
   "metadata": {},
   "outputs": [],
   "source": [
    "# Debugging Examples\n",
    "\n",
    "# Example 1: Infinite Loop\n",
    "count = 10\n",
    "while count > 0:\n",
    "    print(count)\n",
    "    # Missing count decrement\n",
    "    # count -= 1  # Uncomment this line to fix the infinite loop\n",
    "\n",
    "# Example 2: "
   ]
  }
 ],
 "metadata": {
  "kernelspec": {
   "display_name": "Python 3",
   "language": "python",
   "name": "python3"
  },
  "language_info": {
   "codemirror_mode": {
    "name": "ipython",
    "version": 3
   },
   "file_extension": ".py",
   "mimetype": "text/x-python",
   "name": "python",
   "nbconvert_exporter": "python",
   "pygments_lexer": "ipython3",
   "version": "3.12.1"
  }
 },
 "nbformat": 4,
 "nbformat_minor": 5
}
