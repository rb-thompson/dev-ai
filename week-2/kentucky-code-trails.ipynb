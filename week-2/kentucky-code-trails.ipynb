{
 "cells": [
  {
   "cell_type": "markdown",
   "id": "a904a2c3",
   "metadata": {},
   "source": [
    "# Holler Math Mixer\n",
    "\n",
    "**Description:** \n",
    "\n",
    "Mix a batch of something tasty inspired by a Kentucky holler-think moonshine, spice rubs, or a feast from anywhere in the world. Use arithehmetic and operators to calculate the \"strength\" of your mix based on input. Simple math for beginners; pros can tweak it with flair.\n",
    "\n",
    "**Instructions:**\n",
    "\n",
    "Trail Stop #1: Holler Math Mixer! Enter a number of servings (1-10) and use arithmetic/operators to calculate your batch’s ‘spice strength.’ Post your code + a sample output (e.g., ‘Servings: 5, Strength: 15’) in this thread by Thurs (Apr 10) 5 PM. Here’s a starter:"
   ]
  },
  {
   "cell_type": "code",
   "execution_count": null,
   "id": "404e00a3",
   "metadata": {},
   "outputs": [],
   "source": [
    "servings = int(input(\"Enter servings (1-10): \"))\n",
    "strength = servings + 2  # Mix it up!\n",
    "print(f\"Batch strength: {strength} spice\")"
   ]
  },
  {
   "cell_type": "markdown",
   "id": "b11b082e",
   "metadata": {},
   "source": [
    "# Derby Dash Decider\n",
    "\n",
    "**Description:**\n",
    "\n",
    "Pick a race winner with conditionals, inspired by KY’s Derby but widened to global contests—horse races, marathons, or even street races. Pairs code a “decider” that judges input (like speed) and declares a champ. Easy if/else for newbies; pros can layer logic.\n",
    "\n",
    "**Instructions:**\n",
    " \n",
    "Trail Stop #2: Derby Dash Decider! In pairs, use conditionals to decide a race winner based on speed (1-10)."
   ]
  },
  {
   "cell_type": "code",
   "execution_count": null,
   "id": "10bb9fb4",
   "metadata": {},
   "outputs": [],
   "source": [
    "speed = int(input(\"Enter speed (1-10): \"))\n",
    "if speed > 5:\n",
    "    print(\"Winner!\")\n",
    "else:\n",
    "    print(\"Try again, partner.\")"
   ]
  },
  {
   "cell_type": "markdown",
   "id": "f6e0bd14",
   "metadata": {},
   "source": [
    "# Coal Loop Counter\n",
    "\n",
    "**Description:**\n",
    "\n",
    "Use loops to “haul resources” like KY coal, but it’s any hard-earned load—fish, crops, or ore from anywhere. Write the shortest script to count till a target, max 280 characters. Beginners loop simply; pros golf it tight.  \n",
    "\n",
    "**Instructions:** \n",
    "\n",
    "Trail Stop #3: Coal Loop Counter! Use loops to count ‘loads’ till a target (say, 10), in 280 chars or less. Post your code + output by Thu, 5 PM. Here’s a starter:"
   ]
  },
  {
   "cell_type": "code",
   "execution_count": null,
   "id": "03f2f90e",
   "metadata": {},
   "outputs": [],
   "source": [
    "for i in range(20):\n",
    "    if i == 10:\n",
    "        print(\"Haul’s full!\")"
   ]
  },
  {
   "cell_type": "markdown",
   "id": "df2cade7",
   "metadata": {},
   "source": [
    "# Trail Mix Mashup\n",
    "\n",
    "**Description:**\n",
    "\n",
    "Blend data types into a “trail snack” inspired by KY trails, opened to global journey foods—bread, nuts, or tea from anywhere. Code a picker that pairs input with a snack. Newbcomers use basics; pros mix complex types.  \n",
    "\n",
    "**Instructions:** \n",
    "\n",
    "Trail Stop #4: Trail Mix Mashup! Blend data types to make a ‘snack picker’ based on a path (1-3). Solo or team up in VS Code. Starter:"
   ]
  },
  {
   "cell_type": "code",
   "execution_count": null,
   "id": "c4c334b5",
   "metadata": {},
   "outputs": [],
   "source": [
    "path = int(input(\"Pick a path (1-3): \"))\n",
    "print(\"Snack: Nuts\")"
   ]
  }
 ],
 "metadata": {
  "kernelspec": {
   "display_name": "Python 3",
   "language": "python",
   "name": "python3"
  },
  "language_info": {
   "codemirror_mode": {
    "name": "ipython",
    "version": 3
   },
   "file_extension": ".py",
   "mimetype": "text/x-python",
   "name": "python",
   "nbconvert_exporter": "python",
   "pygments_lexer": "ipython3",
   "version": "3.12.1"
  }
 },
 "nbformat": 4,
 "nbformat_minor": 5
}
