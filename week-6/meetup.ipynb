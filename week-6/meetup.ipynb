{
 "cells": [
  {
   "cell_type": "markdown",
   "id": "7c5515d6",
   "metadata": {},
   "source": [
    "## Key Concepts Breakdown\n",
    "\n",
    "1. File Reading Techniques\n",
    "    - File opening modes and context managers\n",
    "    - Line-by-line reading vs. whole file reading\n",
    "    - Parsing structured data from files\n",
    "    - Memory considerations for large files\n",
    "\n"
   ]
  },
  {
   "cell_type": "code",
   "execution_count": null,
   "id": "5c45c81c",
   "metadata": {},
   "outputs": [],
   "source": [
    "def find_largest_number(filename):\n",
    "    largest = float('-inf')\n",
    "    with open(filename, 'r') as file:\n",
    "        for line in file:\n",
    "            try:\n",
    "                num = int(line.strip())\n",
    "                largest = max(largest, num)\n",
    "            except ValueError:\n",
    "                print(f\"Skipping invalid line: {line.strip()}\")\n",
    "    return largest\n",
    "\n",
    "print(find_largest_number('numbers.txt'))\n"
   ]
  },
  {
   "cell_type": "code",
   "execution_count": null,
   "id": "1810e66c",
   "metadata": {},
   "outputs": [],
   "source": [
    "def read_matrix(filename):\n",
    "    matrix = []\n",
    "    with open(filename, 'r') as transactions:\n",
    "        for line in transactions:\n",
    "            row = [int(num) for num in line.strip().split(',')]\n",
    "            matrix.append(row)\n",
    "    return matrix\n",
    "\n",
    "print(read_matrix('matrix.txt'))\n"
   ]
  },
  {
   "cell_type": "markdown",
   "id": "02440d7b",
   "metadata": {},
   "source": [
    "2. File Writing Strategies\n",
    "    - Creating vs. appending to files \n",
    "    - Writing formatted data (CSV, structured text)\n",
    "    - Ensuring data integrity during writes\n",
    "    - File permissions and access modes\n"
   ]
  },
  {
   "cell_type": "code",
   "execution_count": null,
   "id": "c4bb646b",
   "metadata": {},
   "outputs": [],
   "source": [
    "def create_inscription():\n",
    "    name = input(\"Whom should I sign this to: \")\n",
    "    with open('inscription.txt', 'w') as file:\n",
    "        file.write(f\"To: {name}\\n\")\n",
    "        file.write(\"This is a special message just for you!\\n\")\n",
    "\n",
    "create_inscription()"
   ]
  },
  {
   "cell_type": "code",
   "execution_count": null,
   "id": "05329240",
   "metadata": {},
   "outputs": [],
   "source": [
    "# Write new values to numbers.txt\n",
    "\n",
    "def add_new_value():\n",
    "    entry = input(\"Enter a new value to add to numbers.txt: \")\n",
    "    with open('numbers.txt', 'a') as file:\n",
    "        file.write(f\"{entry}\")\n",
    "    print(f\"Added {entry} to numbers.txt\")\n",
    "\n",
    "add_new_value()"
   ]
  },
  {
   "cell_type": "code",
   "execution_count": null,
   "id": "a91c433a",
   "metadata": {},
   "outputs": [],
   "source": [
    "# Mid-class Boredom Buster\n",
    "# Image generation: A cat jumping over the moon with 16mm lens.\n",
    "\n",
    "# 'over-the-moon.png'"
   ]
  },
  {
   "cell_type": "code",
   "execution_count": null,
   "id": "f46899b3",
   "metadata": {},
   "outputs": [],
   "source": [
    "def filter_file_contents(input_file, output_file):\n",
    "    with open(input_file, 'r') as infile, open(output_file, 'w') as outfile:\n",
    "        for line in infile:\n",
    "            if line.strip():  # Skip empty lines\n",
    "                outfile.write(line)"
   ]
  },
  {
   "cell_type": "markdown",
   "id": "6e3bc87c",
   "metadata": {},
   "source": [
    "\n",
    "3. Error Handling in File Operations\n",
    "    - Common file-related exceptions\n",
    "    - Graceful error recovery in I/O operations\n",
    "    - Logging errors vs. raising exceptions\n",
    "    - Balancing Robustness and Simplicity"
   ]
  },
  {
   "cell_type": "code",
   "execution_count": null,
   "id": "5c526060",
   "metadata": {},
   "outputs": [],
   "source": [
    "def read_integer(prompt, min_value, max_value):\n",
    "    while True:\n",
    "        try:\n",
    "            value = int(input(prompt))\n",
    "            if min_value <= value <= max_value:\n",
    "                return value\n",
    "            else:\n",
    "                print(f\"Please enter a number between {min_value} and {max_value}.\")\n",
    "        except ValueError:\n",
    "            print(\"Invalid input. Please enter an integer.\")\n",
    "\n",
    "# Test the function\n",
    "age = read_integer(\"Enter your age: \", 0, 120)\n",
    "print(f\"Your age is: {age}\")"
   ]
  },
  {
   "cell_type": "code",
   "execution_count": null,
   "id": "4ed527eb",
   "metadata": {},
   "outputs": [],
   "source": [
    "# try to do things, except when you can't"
   ]
  },
  {
   "cell_type": "code",
   "execution_count": 22,
   "id": "1d468afc",
   "metadata": {},
   "outputs": [
    {
     "name": "stdout",
     "output_type": "stream",
     "text": [
      "[('John', 40, 'Louisville', 'USA'), ('Yuri', 35, 'Tokyo', 'Japan'), ('Marie', 28, 'Paris', 'France'), ('Abraham', 50, 'Kentucky', 'USA')]\n"
     ]
    }
   ],
   "source": [
    "# Example: Robust CSV reading with error handling\n",
    "def read_csv_safely(filename):\n",
    "    data = []\n",
    "    try:\n",
    "        with open(filename, 'r') as file:\n",
    "            for line_num, line in enumerate(file, 1):\n",
    "                try:\n",
    "                    name, age, location, country = line.strip().split(',')\n",
    "                    age = int(age)\n",
    "                    data.append((name, age, location, country))\n",
    "                except ValueError:\n",
    "                    print(f\"Error on line {line_num}: Invalid format\")\n",
    "    except FileNotFoundError:\n",
    "        print(f\"File {filename} not found\")\n",
    "    except PermissionError:\n",
    "        print(f\"No permission to read {filename}\")\n",
    "    return data\n",
    "\n",
    "# Test the function\n",
    "print(read_csv_safely('people.csv'))"
   ]
  }
 ],
 "metadata": {
  "kernelspec": {
   "display_name": "Python 3",
   "language": "python",
   "name": "python3"
  },
  "language_info": {
   "codemirror_mode": {
    "name": "ipython",
    "version": 3
   },
   "file_extension": ".py",
   "mimetype": "text/x-python",
   "name": "python",
   "nbconvert_exporter": "python",
   "pygments_lexer": "ipython3",
   "version": "3.12.1"
  }
 },
 "nbformat": 4,
 "nbformat_minor": 5
}
