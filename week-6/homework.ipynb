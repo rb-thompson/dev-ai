{
 "cells": [
  {
   "cell_type": "markdown",
   "id": "788e526d",
   "metadata": {},
   "source": [
    "## Local and Global Variables"
   ]
  },
  {
   "cell_type": "code",
   "execution_count": null,
   "id": "71b2eb5e",
   "metadata": {},
   "outputs": [
    {
     "name": "stdout",
     "output_type": "stream",
     "text": [
      "5\n"
     ]
    }
   ],
   "source": [
    "# The SCOPE of a variable refers to the sections of a program where a variable is accessed. \n",
    "\n",
    "# local variables\n",
    "\n",
    "def testing():\n",
    "    x = 5\n",
    "    print(x)\n",
    "\n",
    "testing()\n",
    "# print(x)"
   ]
  },
  {
   "cell_type": "code",
   "execution_count": null,
   "id": "b6fc700e",
   "metadata": {},
   "outputs": [
    {
     "name": "stdout",
     "output_type": "stream",
     "text": [
      "3\n"
     ]
    }
   ],
   "source": [
    "# global variables\n",
    "\n",
    "def testing2():\n",
    "    print(y)\n",
    "\n",
    "y = 3\n",
    "testing2()"
   ]
  },
  {
   "cell_type": "code",
   "execution_count": 16,
   "id": "18497763",
   "metadata": {},
   "outputs": [
    {
     "name": "stdout",
     "output_type": "stream",
     "text": [
      "Before calling functions: z = 14\n",
      "Inside local_example() z (local) = 5\n",
      "After calling local_example(): z = 14\n",
      "Inside global_example() z (global) = 15\n",
      "After calling global_example(): z = 15\n"
     ]
    }
   ],
   "source": [
    "# Global Variable\n",
    "z = 14\n",
    "\n",
    "def local_example():\n",
    "    # Local variable\n",
    "    z = 5\n",
    "    print(\"Inside local_example() z (local) =\", z)\n",
    "\n",
    "def global_example():\n",
    "    global z\n",
    "    z = 15\n",
    "    print(\"Inside global_example() z (global) =\", z)\n",
    "\n",
    "print(\"Before calling functions: z =\", z)\n",
    "local_example()\n",
    "print(\"After calling local_example(): z =\", z)\n",
    "global_example()\n",
    "print(\"After calling global_example(): z =\", z)"
   ]
  }
 ],
 "metadata": {
  "kernelspec": {
   "display_name": "Python 3",
   "language": "python",
   "name": "python3"
  },
  "language_info": {
   "codemirror_mode": {
    "name": "ipython",
    "version": 3
   },
   "file_extension": ".py",
   "mimetype": "text/x-python",
   "name": "python",
   "nbconvert_exporter": "python",
   "pygments_lexer": "ipython3",
   "version": "3.12.1"
  }
 },
 "nbformat": 4,
 "nbformat_minor": 5
}
